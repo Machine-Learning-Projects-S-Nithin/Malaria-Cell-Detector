{
 "cells": [
  {
   "cell_type": "code",
   "execution_count": 1,
   "id": "2ef1f4c7",
   "metadata": {},
   "outputs": [],
   "source": [
    "import pandas as pd\n",
    "import numpy as np"
   ]
  },
  {
   "cell_type": "code",
   "execution_count": 2,
   "id": "f78b0547",
   "metadata": {},
   "outputs": [
    {
     "data": {
      "text/html": [
       "<div>\n",
       "<style scoped>\n",
       "    .dataframe tbody tr th:only-of-type {\n",
       "        vertical-align: middle;\n",
       "    }\n",
       "\n",
       "    .dataframe tbody tr th {\n",
       "        vertical-align: top;\n",
       "    }\n",
       "\n",
       "    .dataframe thead th {\n",
       "        text-align: right;\n",
       "    }\n",
       "</style>\n",
       "<table border=\"1\" class=\"dataframe\">\n",
       "  <thead>\n",
       "    <tr style=\"text-align: right;\">\n",
       "      <th></th>\n",
       "      <th>filename</th>\n",
       "      <th>label</th>\n",
       "    </tr>\n",
       "  </thead>\n",
       "  <tbody>\n",
       "    <tr>\n",
       "      <th>0</th>\n",
       "      <td>C50P11thinF_IMG_20150724_114951_cell_148.png</td>\n",
       "      <td>malaria</td>\n",
       "    </tr>\n",
       "    <tr>\n",
       "      <th>1</th>\n",
       "      <td>C112P73ThinF_IMG_20150930_131659_cell_94.png</td>\n",
       "      <td>healthy</td>\n",
       "    </tr>\n",
       "    <tr>\n",
       "      <th>2</th>\n",
       "      <td>C59P20thinF_IMG_20150803_111333_cell_144.png</td>\n",
       "      <td>malaria</td>\n",
       "    </tr>\n",
       "    <tr>\n",
       "      <th>3</th>\n",
       "      <td>C158P119ThinF_IMG_20151115_181136_cell_202.png</td>\n",
       "      <td>malaria</td>\n",
       "    </tr>\n",
       "    <tr>\n",
       "      <th>4</th>\n",
       "      <td>C81P42ThinF_IMG_20150817_120524_cell_190.png</td>\n",
       "      <td>malaria</td>\n",
       "    </tr>\n",
       "    <tr>\n",
       "      <th>5</th>\n",
       "      <td>C130P91ThinF_IMG_20151004_142709_cell_110.png</td>\n",
       "      <td>healthy</td>\n",
       "    </tr>\n",
       "    <tr>\n",
       "      <th>6</th>\n",
       "      <td>C48P9thinF_IMG_20150721_160406_cell_231.png</td>\n",
       "      <td>malaria</td>\n",
       "    </tr>\n",
       "    <tr>\n",
       "      <th>7</th>\n",
       "      <td>C182P143NThinF_IMG_20151201_172257_cell_169.png</td>\n",
       "      <td>malaria</td>\n",
       "    </tr>\n",
       "    <tr>\n",
       "      <th>8</th>\n",
       "      <td>C159P120ThinF_IMG_20151115_185541_cell_182.png</td>\n",
       "      <td>malaria</td>\n",
       "    </tr>\n",
       "    <tr>\n",
       "      <th>9</th>\n",
       "      <td>C184P145ThinF_IMG_20151203_103114_cell_153.png</td>\n",
       "      <td>malaria</td>\n",
       "    </tr>\n",
       "  </tbody>\n",
       "</table>\n",
       "</div>"
      ],
      "text/plain": [
       "                                          filename    label\n",
       "0     C50P11thinF_IMG_20150724_114951_cell_148.png  malaria\n",
       "1     C112P73ThinF_IMG_20150930_131659_cell_94.png  healthy\n",
       "2     C59P20thinF_IMG_20150803_111333_cell_144.png  malaria\n",
       "3   C158P119ThinF_IMG_20151115_181136_cell_202.png  malaria\n",
       "4     C81P42ThinF_IMG_20150817_120524_cell_190.png  malaria\n",
       "5    C130P91ThinF_IMG_20151004_142709_cell_110.png  healthy\n",
       "6      C48P9thinF_IMG_20150721_160406_cell_231.png  malaria\n",
       "7  C182P143NThinF_IMG_20151201_172257_cell_169.png  malaria\n",
       "8   C159P120ThinF_IMG_20151115_185541_cell_182.png  malaria\n",
       "9   C184P145ThinF_IMG_20151203_103114_cell_153.png  malaria"
      ]
     },
     "execution_count": 2,
     "metadata": {},
     "output_type": "execute_result"
    }
   ],
   "source": [
    "df=pd.read_csv('./dataset/malaria_detection.csv') \n",
    "df.head(10)"
   ]
  },
  {
   "cell_type": "code",
   "execution_count": 3,
   "id": "b7ec175a",
   "metadata": {},
   "outputs": [
    {
     "data": {
      "text/plain": [
       "filename    0\n",
       "label       0\n",
       "dtype: int64"
      ]
     },
     "execution_count": 3,
     "metadata": {},
     "output_type": "execute_result"
    }
   ],
   "source": [
    "df.isnull().sum()"
   ]
  },
  {
   "cell_type": "code",
   "execution_count": 4,
   "id": "99b8df4d",
   "metadata": {},
   "outputs": [
    {
     "data": {
      "text/html": [
       "<div>\n",
       "<style scoped>\n",
       "    .dataframe tbody tr th:only-of-type {\n",
       "        vertical-align: middle;\n",
       "    }\n",
       "\n",
       "    .dataframe tbody tr th {\n",
       "        vertical-align: top;\n",
       "    }\n",
       "\n",
       "    .dataframe thead th {\n",
       "        text-align: right;\n",
       "    }\n",
       "</style>\n",
       "<table border=\"1\" class=\"dataframe\">\n",
       "  <thead>\n",
       "    <tr style=\"text-align: right;\">\n",
       "      <th></th>\n",
       "      <th>filename</th>\n",
       "      <th>label</th>\n",
       "    </tr>\n",
       "  </thead>\n",
       "  <tbody>\n",
       "    <tr>\n",
       "      <th>0</th>\n",
       "      <td>C50P11thinF_IMG_20150724_114951_cell_148.png</td>\n",
       "      <td>1</td>\n",
       "    </tr>\n",
       "    <tr>\n",
       "      <th>1</th>\n",
       "      <td>C112P73ThinF_IMG_20150930_131659_cell_94.png</td>\n",
       "      <td>0</td>\n",
       "    </tr>\n",
       "    <tr>\n",
       "      <th>2</th>\n",
       "      <td>C59P20thinF_IMG_20150803_111333_cell_144.png</td>\n",
       "      <td>1</td>\n",
       "    </tr>\n",
       "    <tr>\n",
       "      <th>3</th>\n",
       "      <td>C158P119ThinF_IMG_20151115_181136_cell_202.png</td>\n",
       "      <td>1</td>\n",
       "    </tr>\n",
       "    <tr>\n",
       "      <th>4</th>\n",
       "      <td>C81P42ThinF_IMG_20150817_120524_cell_190.png</td>\n",
       "      <td>1</td>\n",
       "    </tr>\n",
       "    <tr>\n",
       "      <th>5</th>\n",
       "      <td>C130P91ThinF_IMG_20151004_142709_cell_110.png</td>\n",
       "      <td>0</td>\n",
       "    </tr>\n",
       "    <tr>\n",
       "      <th>6</th>\n",
       "      <td>C48P9thinF_IMG_20150721_160406_cell_231.png</td>\n",
       "      <td>1</td>\n",
       "    </tr>\n",
       "    <tr>\n",
       "      <th>7</th>\n",
       "      <td>C182P143NThinF_IMG_20151201_172257_cell_169.png</td>\n",
       "      <td>1</td>\n",
       "    </tr>\n",
       "    <tr>\n",
       "      <th>8</th>\n",
       "      <td>C159P120ThinF_IMG_20151115_185541_cell_182.png</td>\n",
       "      <td>1</td>\n",
       "    </tr>\n",
       "    <tr>\n",
       "      <th>9</th>\n",
       "      <td>C184P145ThinF_IMG_20151203_103114_cell_153.png</td>\n",
       "      <td>1</td>\n",
       "    </tr>\n",
       "  </tbody>\n",
       "</table>\n",
       "</div>"
      ],
      "text/plain": [
       "                                          filename  label\n",
       "0     C50P11thinF_IMG_20150724_114951_cell_148.png      1\n",
       "1     C112P73ThinF_IMG_20150930_131659_cell_94.png      0\n",
       "2     C59P20thinF_IMG_20150803_111333_cell_144.png      1\n",
       "3   C158P119ThinF_IMG_20151115_181136_cell_202.png      1\n",
       "4     C81P42ThinF_IMG_20150817_120524_cell_190.png      1\n",
       "5    C130P91ThinF_IMG_20151004_142709_cell_110.png      0\n",
       "6      C48P9thinF_IMG_20150721_160406_cell_231.png      1\n",
       "7  C182P143NThinF_IMG_20151201_172257_cell_169.png      1\n",
       "8   C159P120ThinF_IMG_20151115_185541_cell_182.png      1\n",
       "9   C184P145ThinF_IMG_20151203_103114_cell_153.png      1"
      ]
     },
     "execution_count": 4,
     "metadata": {},
     "output_type": "execute_result"
    }
   ],
   "source": [
    "from sklearn.preprocessing import LabelEncoder\n",
    "enc=LabelEncoder()\n",
    "df[\"label\"]=enc.fit_transform(df[\"label\"])\n",
    "df.head(10)"
   ]
  },
  {
   "cell_type": "code",
   "execution_count": 5,
   "id": "88087f48",
   "metadata": {},
   "outputs": [],
   "source": [
    "from skimage.io import imread,imshow\n",
    "from skimage.transform import resize"
   ]
  },
  {
   "cell_type": "code",
   "execution_count": 6,
   "id": "d5f88be9",
   "metadata": {},
   "outputs": [],
   "source": [
    "import os\n",
    "base_path=os.path.join('./dataset/cell_images/')"
   ]
  },
  {
   "cell_type": "code",
   "execution_count": 7,
   "id": "309287f3",
   "metadata": {},
   "outputs": [],
   "source": [
    "from sklearn.model_selection import train_test_split\n",
    "train_x, test_x, train_y, test_y=train_test_split(df[\"filename\"], df[\"label\"], test_size=0.2, random_state=42)"
   ]
  },
  {
   "cell_type": "code",
   "execution_count": 8,
   "id": "b50062b1",
   "metadata": {},
   "outputs": [
    {
     "data": {
      "text/plain": [
       "(15432, 3858)"
      ]
     },
     "execution_count": 8,
     "metadata": {},
     "output_type": "execute_result"
    }
   ],
   "source": [
    "train_x.size, test_x.size"
   ]
  },
  {
   "cell_type": "code",
   "execution_count": 9,
   "id": "4665c242",
   "metadata": {
    "scrolled": true
   },
   "outputs": [
    {
     "data": {
      "text/plain": [
       "<matplotlib.image.AxesImage at 0x1830e124b50>"
      ]
     },
     "execution_count": 9,
     "metadata": {},
     "output_type": "execute_result"
    },
    {
     "data": {
      "image/png": "[encoded data removed]",
      "text/plain": [
       "<Figure size 432x288 with 1 Axes>"
      ]
     },
     "metadata": {
      "needs_background": "light"
     },
     "output_type": "display_data"
    }
   ],
   "source": [
    "from random import randint\n",
    "rm=randint(0,17361)\n",
    "img=imread(os.path.join(base_path,train_x.iloc[rm]))\n",
    "imshow(img)"
   ]
  },
  {
   "cell_type": "code",
   "execution_count": 10,
   "id": "b200c20c",
   "metadata": {},
   "outputs": [],
   "source": [
    "img_x=[]\n",
    "img_y=[]"
   ]
  },
  {
   "cell_type": "code",
   "execution_count": 11,
   "id": "84c5c457",
   "metadata": {},
   "outputs": [
    {
     "data": {
      "text/plain": [
       "(132.99105754276826, 132.51963452566096)"
      ]
     },
     "execution_count": 11,
     "metadata": {},
     "output_type": "execute_result"
    }
   ],
   "source": [
    "for i in range(len(train_x)):\n",
    "    img=imread(os.path.join(base_path,train_x.iloc[i]))\n",
    "    img_x.append(img.shape[0])\n",
    "    img_y.append(img.shape[1])\n",
    "avg_x=sum(img_x)/len(img_x)\n",
    "avg_y=sum(img_y)/len(img_y)\n",
    "avg_x,avg_y"
   ]
  },
  {
   "cell_type": "code",
   "execution_count": 12,
   "id": "24d48014",
   "metadata": {},
   "outputs": [],
   "source": [
    "img_dim=(132,132)"
   ]
  },
  {
   "cell_type": "code",
   "execution_count": 13,
   "id": "094a0ee9",
   "metadata": {},
   "outputs": [],
   "source": [
    "from skimage.feature import hog\n",
    "from skimage.transform import resize"
   ]
  },
  {
   "cell_type": "code",
   "execution_count": 14,
   "id": "603a99be",
   "metadata": {},
   "outputs": [],
   "source": [
    "train_features = []\n",
    "for i in train_x:\n",
    "    image = imread(os.path.join(base_path,i))\n",
    "    image = resize(image,img_dim)\n",
    "    features, hog_image = hog(image, orientations=9, pixels_per_cell=(8, 8),cells_per_block=(2, 2), visualize=True, multichannel=True)\n",
    "    train_features.append(features)"
   ]
  },
  {
   "cell_type": "code",
   "execution_count": 15,
   "id": "c62ea550",
   "metadata": {},
   "outputs": [],
   "source": [
    "test_features = []\n",
    "for i in test_x:\n",
    "    image = imread(os.path.join(base_path,i))\n",
    "    image = resize(image,img_dim)\n",
    "    features, hog_image = hog(image, orientations=9, pixels_per_cell=(8, 8),cells_per_block=(2, 2), visualize=True, multichannel=True)\n",
    "    test_features.append(features)"
   ]
  },
  {
   "cell_type": "code",
   "execution_count": 16,
   "id": "5f860295",
   "metadata": {},
   "outputs": [],
   "source": [
    "train_features=np.array(train_features)\n",
    "test_features=np.array(test_features)"
   ]
  },
  {
   "cell_type": "code",
   "execution_count": 18,
   "id": "bf2dfca0",
   "metadata": {},
   "outputs": [],
   "source": [
    "np.save('train_features', train_features)\n",
    "np.save('test_features', test_features)"
   ]
  },
  {
   "cell_type": "code",
   "execution_count": 19,
   "id": "14e58486",
   "metadata": {},
   "outputs": [],
   "source": [
    "from keras.models import Sequential\n",
    "from keras.layers import Conv2D, Flatten, MaxPooling2D, Dense, Dropout\n",
    "from keras.layers.advanced_activations import LeakyReLU"
   ]
  },
  {
   "cell_type": "code",
   "execution_count": 30,
   "id": "1b822957",
   "metadata": {
    "scrolled": true
   },
   "outputs": [
    {
     "name": "stdout",
     "output_type": "stream",
     "text": [
      "Epoch 1/10\n",
      "483/483 [==============================] - 4s 7ms/step - loss: 0.6189 - accuracy: 0.6502 - val_loss: 0.4988 - val_accuracy: 0.7716\n",
      "Epoch 2/10\n",
      "483/483 [==============================] - 3s 7ms/step - loss: 0.4815 - accuracy: 0.7661 - val_loss: 0.4546 - val_accuracy: 0.7836\n",
      "Epoch 3/10\n",
      "483/483 [==============================] - 3s 7ms/step - loss: 0.4319 - accuracy: 0.7957 - val_loss: 0.4969 - val_accuracy: 0.7605\n",
      "Epoch 4/10\n",
      "483/483 [==============================] - 3s 7ms/step - loss: 0.3939 - accuracy: 0.8188 - val_loss: 0.5224 - val_accuracy: 0.7623\n",
      "Epoch 5/10\n",
      "483/483 [==============================] - 3s 7ms/step - loss: 0.3717 - accuracy: 0.8305 - val_loss: 0.4475 - val_accuracy: 0.7989\n",
      "Epoch 6/10\n",
      "483/483 [==============================] - 3s 7ms/step - loss: 0.3439 - accuracy: 0.8465 - val_loss: 0.4830 - val_accuracy: 0.7812\n",
      "Epoch 7/10\n",
      "483/483 [==============================] - 3s 7ms/step - loss: 0.3438 - accuracy: 0.8458 - val_loss: 0.4586 - val_accuracy: 0.7965\n",
      "Epoch 8/10\n",
      "483/483 [==============================] - 4s 7ms/step - loss: 0.3173 - accuracy: 0.8609 - val_loss: 0.4450 - val_accuracy: 0.7991\n",
      "Epoch 9/10\n",
      "483/483 [==============================] - 3s 7ms/step - loss: 0.2973 - accuracy: 0.8702 - val_loss: 0.7847 - val_accuracy: 0.6796\n",
      "Epoch 10/10\n",
      "483/483 [==============================] - 3s 7ms/step - loss: 0.2955 - accuracy: 0.8699 - val_loss: 0.4787 - val_accuracy: 0.7996\n"
     ]
    }
   ],
   "source": [
    "model=Sequential()\n",
    "\n",
    "#Layer 1\n",
    "model.add(Dense(128,activation='relu', input_shape=(train_features.shape[1], )))\n",
    "model.add(LeakyReLU(alpha=0.1))\n",
    "\n",
    "#Layer 2\n",
    "model.add(Dense(128, activation='relu'))\n",
    "\n",
    "#Layer 3\n",
    "model.add(Dense(128, activation='linear'))\n",
    "\n",
    "#Output Layer\n",
    "model.add(LeakyReLU(alpha=0.1))\n",
    "model.add(Dense(2, activation='softmax'))\n",
    "\n",
    "model.compile(loss='sparse_categorical_crossentropy', optimizer='adam', metrics=['accuracy'])\n",
    "hist=model.fit(train_features, train_y, batch_size = 32, epochs = 10, validation_data=(test_features, test_y))"
   ]
  },
  {
   "cell_type": "code",
   "execution_count": 31,
   "id": "688617e8",
   "metadata": {},
   "outputs": [
    {
     "name": "stdout",
     "output_type": "stream",
     "text": [
      "121/121 [==============================] - 0s 2ms/step - loss: 0.4787 - accuracy: 0.7996\n",
      "Loss:  0.47865524888038635\n",
      "Accuracy :  0.7996371388435364\n"
     ]
    }
   ],
   "source": [
    "val_loss, val_acc = model.evaluate(test_features, test_y)\n",
    "\n",
    "print(\"Loss: \",val_loss)\n",
    "print(\"Accuracy : \",val_acc)"
   ]
  },
  {
   "cell_type": "code",
   "execution_count": null,
   "id": "e8ad9495",
   "metadata": {},
   "outputs": [],
   "source": []
  }
 ],
 "metadata": {
  "kernelspec": {
   "display_name": "Python 3 (ipykernel)",
   "language": "python",
   "name": "python3"
  },
  "language_info": {
   "codemirror_mode": {
    "name": "ipython",
    "version": 3
   },
   "file_extension": ".py",
   "mimetype": "text/x-python",
   "name": "python",
   "nbconvert_exporter": "python",
   "pygments_lexer": "ipython3",
   "version": "3.9.7"
  }
 },
 "nbformat": 4,
 "nbformat_minor": 5
}
